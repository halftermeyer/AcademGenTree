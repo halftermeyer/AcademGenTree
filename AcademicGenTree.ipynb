{
 "cells": [
  {
   "cell_type": "code",
   "execution_count": 1,
   "metadata": {},
   "outputs": [],
   "source": [
    "import urllib.request\n",
    "import re\n",
    "import pydot\n",
    "import networkx as nx\n",
    "from lxml import etree\n",
    "import html\n",
    "import os"
   ]
  },
  {
   "cell_type": "code",
   "execution_count": 2,
   "metadata": {},
   "outputs": [],
   "source": [
    "class Matheux:\n",
    "\n",
    "    def __init__(self, identifiant):\n",
    "        \n",
    "        \n",
    "        self.identifiant = identifiant\n",
    "        \n",
    "        url = \"https://www.genealogy.math.ndsu.nodak.edu/id.php?id=\"+str(identifiant)\n",
    "        response = urllib.request.urlopen(url)\n",
    "        htmlParser = etree.HTMLParser()\n",
    "        tree = etree.parse(response, htmlParser)\n",
    "        \n",
    "        # Dirty scrapping\n",
    "        self.nom = ['-'.join(s.split('-')[0:-1]).strip() for s in tree.xpath(\"//title/text()\")][0]\n",
    "        \n",
    "        self.encadrants = [a.split('=')[1] for (a,b,c) in (zip(tree.xpath(\"//h2\")[0]\n",
    "                                                               .xpath(\"//p/a/@href\"),\n",
    "         tree.xpath(\"//h2\")[0].xpath(\"//p/a/text()\"),\n",
    "         [e.xpath(\"../text()\") for e in tree.xpath(\"//h2\")[0].xpath(\"//p/a\")]))\n",
    "                           if 'Advisor' in ''.join(c)]\n",
    "        \n",
    "        self.doctorants = [s.split('=')[1] for s in tree.xpath('//div[@id=\"paddingWrapper\"]')[0]\n",
    "                           .xpath('//td/a/@href')]\n",
    "        \n",
    "        self.infos = [s.strip() for s in tree.xpath(\"//h2\")[0]\n",
    "                      .xpath(\"..//span/text()\") if 'Dissertation:' not in s and s.strip() != '']\n",
    "        \n",
    "        self.label = ''.join(['<','<b>',self.nom,'</b>','<br/>']\n",
    "                             +[html.escape(s)+'<br/>' for s in self.infos]\n",
    "                             +['>'])\n",
    "        \n",
    "    def id(self):\n",
    "        return int(self.identifiant)\n",
    "    def __hash__(self):\n",
    "        return self.id()\n",
    "    def __eq__(self,other):\n",
    "        return self.__hash__() == other.__hash__()"
   ]
  },
  {
   "cell_type": "code",
   "execution_count": 3,
   "metadata": {},
   "outputs": [],
   "source": [
    "racine = Matheux(201415) # 201415 est mon id sur www.genealogy.math.ndsu.nodak.edu\n",
    "LIFOArray = [(None,racine)]\n",
    "\n",
    "G = nx.DiGraph()\n",
    "\n",
    "# On traite l'ascendance\n",
    "\n",
    "while (len(LIFOArray) > 0):\n",
    "    m = LIFOArray.pop(0)\n",
    "    doctorant = m[0]\n",
    "    noeudCourant = m[1]\n",
    "\n",
    "    flag_traite = False\n",
    "    if (noeudCourant not in G):\n",
    "        G.add_node(noeudCourant, label=noeudCourant.label)\n",
    "    else:\n",
    "        flag_traite = True\n",
    "    \n",
    "    # On relie le doctorant à l'encadrant\n",
    "    if doctorant is not None:\n",
    "        G.add_edge(noeudCourant, doctorant)\n",
    "    \n",
    "    # On enfile les encadrants pour traitement en mémorisant le doctorants\n",
    "    # qu'ils ont encadré\n",
    "    if not flag_traite:\n",
    "        for e in noeudCourant.encadrants:\n",
    "            LIFOArray.append((noeudCourant,Matheux(e)))\n",
    "\n",
    "# On traite la descendance\n",
    "            \n",
    "LIFOArray = [(Matheux(r),racine) for r in racine.doctorants]\n",
    "while (len(LIFOArray) > 0):\n",
    "    m = LIFOArray.pop(0)\n",
    "    encadrant = m[1]\n",
    "    noeudCourant = m[0]\n",
    "    \n",
    "    G.add_node(noeudCourant, label=noeudCourant.label)\n",
    "    G.add_edge(encadrant, noeudCourant)\n",
    "    \n",
    "    for e in noeudCourant.doctorants:\n",
    "        LIFOArray.append((Matheux(e),noeudCourant))"
   ]
  },
  {
   "cell_type": "code",
   "execution_count": 4,
   "metadata": {},
   "outputs": [],
   "source": [
    "nx.nx_pydot.write_dot(G,'pierre.dot')\n",
    "!dot -Tpdf pierre.dot > pierre.pdf"
   ]
  },
  {
   "cell_type": "code",
   "execution_count": null,
   "metadata": {},
   "outputs": [],
   "source": []
  }
 ],
 "metadata": {
  "kernelspec": {
   "display_name": "Python 3",
   "language": "python",
   "name": "python3"
  },
  "language_info": {
   "codemirror_mode": {
    "name": "ipython",
    "version": 3
   },
   "file_extension": ".py",
   "mimetype": "text/x-python",
   "name": "python",
   "nbconvert_exporter": "python",
   "pygments_lexer": "ipython3",
   "version": "3.6.4"
  }
 },
 "nbformat": 4,
 "nbformat_minor": 2
}
